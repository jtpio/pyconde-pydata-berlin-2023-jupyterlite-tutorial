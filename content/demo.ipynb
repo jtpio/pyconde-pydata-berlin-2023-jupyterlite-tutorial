{
 "cells": [
  {
   "cell_type": "code",
   "execution_count": null,
   "metadata": {},
   "outputs": [],
   "source": [
    "import folium\n",
    "from ipywidgets import Button, Textarea, Label, Layout, Output, VBox"
   ]
  },
  {
   "cell_type": "code",
   "execution_count": null,
   "metadata": {},
   "outputs": [],
   "source": [
    "pictures = Textarea(\n",
    "    value='',\n",
    "    placeholder='URL,lat,long',\n",
    "    resizable=True,\n",
    "    layout=Layout(\n",
    "        width=\"90%\"\n",
    "    )\n",
    ")\n",
    "\n",
    "description = Label(\"Enter a list of pictures with their GPS coordinates. 1 picture per line\")\n",
    "\n",
    "VBox([description, pictures])"
   ]
  },
  {
   "cell_type": "code",
   "execution_count": null,
   "metadata": {
    "tags": []
   },
   "outputs": [],
   "source": [
    "def parse_data():\n",
    "    data = [line.split(',') for line in pictures.value.split('\\n') if line.strip() != '']\n",
    "    return [(url.strip(), float(lat.strip()), float(lng.strip())) for url, lat, lng in data]"
   ]
  },
  {
   "cell_type": "code",
   "execution_count": null,
   "metadata": {},
   "outputs": [],
   "source": [
    "def create_map(data):\n",
    "    if not data:\n",
    "        return\n",
    "    \n",
    "    first = data[0]\n",
    "    _, center_lat, center_lng = first\n",
    "    \n",
    "    m = folium.Map(location=[40, -120], zoom_start=3)\n",
    "    for url, lat, lng in data:\n",
    "        icon = folium.features.CustomIcon(icon_image=url, icon_size=(50, 50))\n",
    "        popup = folium.Popup(f'<img width=\"512\" src=\"{url}\">')\n",
    "        folium.Marker(location=(lat, lng), icon=icon, popup=popup).add_to(m)\n",
    "    return m"
   ]
  },
  {
   "cell_type": "code",
   "execution_count": null,
   "metadata": {
    "tags": []
   },
   "outputs": [],
   "source": [
    "def show(change):\n",
    "    data = parse_data()\n",
    "    m = create_map(data)\n",
    "    with out:\n",
    "        out.clear_output()\n",
    "        display(m)\n",
    "\n",
    "button = Button(description='Display')\n",
    "button.on_click(show)\n",
    "button"
   ]
  },
  {
   "cell_type": "code",
   "execution_count": null,
   "metadata": {
    "tags": []
   },
   "outputs": [],
   "source": [
    "out = Output()\n",
    "out"
   ]
  }
 ],
 "metadata": {
  "kernelspec": {
   "display_name": "Python 3 (ipykernel)",
   "language": "python",
   "name": "python3"
  },
  "language_info": {
   "codemirror_mode": {
    "name": "ipython",
    "version": 3
   },
   "file_extension": ".py",
   "mimetype": "text/x-python",
   "name": "python",
   "nbconvert_exporter": "python",
   "pygments_lexer": "ipython3",
   "version": "3.11.3"
  }
 },
 "nbformat": 4,
 "nbformat_minor": 4
}
