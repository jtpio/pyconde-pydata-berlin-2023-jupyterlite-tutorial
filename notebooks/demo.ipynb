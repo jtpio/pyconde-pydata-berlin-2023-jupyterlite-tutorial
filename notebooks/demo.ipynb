{
 "cells": [
  {
   "cell_type": "code",
   "execution_count": null,
   "metadata": {},
   "outputs": [],
   "source": [
    "import folium\n",
    "from ipywidgets import Button, HTML, Textarea, Label, Layout, Output, HBox, VBox"
   ]
  },
  {
   "cell_type": "code",
   "execution_count": null,
   "metadata": {},
   "outputs": [],
   "source": [
    "pictures = Textarea(\n",
    "    value='',\n",
    "    placeholder='URL,lat,long',\n",
    "    resizable=True,\n",
    "    layout=Layout(\n",
    "        width=\"90%\"\n",
    "    )\n",
    ")\n",
    "\n",
    "description = Label(\"Enter a list of pictures with their GPS coordinates. 1 picture per line\")\n"
   ]
  },
  {
   "attachments": {},
   "cell_type": "markdown",
   "metadata": {},
   "source": [
    "Enter a list of pictures with their GPS coordinates, one picture per line.\n",
    "\n",
    "The format should be as follows: `url, latitude, longitude`.\n",
    "\n",
    "Here is an example:\n",
    "\n",
    "```text\n",
    "https://images.pexels.com/photos/460672/pexels-photo-460672.jpeg, 51.5074, -0.1278\n",
    "https://images.pexels.com/photos/1125212/pexels-photo-1125212.jpeg, 48.8566, 2.3522\n",
    "https://images.pexels.com/photos/1701595/pexels-photo-1701595.jpeg, 41.9028, 12.4964\n",
    "https://images.pexels.com/photos/1128408/pexels-photo-1128408.jpeg, 52.5200, 13.4050\n",
    "https://images.pexels.com/photos/1874675/pexels-photo-1874675.jpeg, 41.3851, 2.1734\n",
    "https://images.pexels.com/photos/3030468/pexels-photo-3030468.jpeg, 59.3293, 18.0686\n",
    "https://images.pexels.com/photos/2350351/pexels-photo-2350351.jpeg, 47.4979, 19.0402\n",
    "```"
   ]
  },
  {
   "cell_type": "code",
   "execution_count": null,
   "metadata": {},
   "outputs": [],
   "source": [
    "VBox([description, pictures])"
   ]
  },
  {
   "cell_type": "code",
   "execution_count": null,
   "metadata": {
    "tags": []
   },
   "outputs": [],
   "source": [
    "def parse_data():\n",
    "    data = [line.split(',') for line in pictures.value.split('\\n') if line.strip() != '']\n",
    "    return [(url.strip(), float(lat.strip()), float(lng.strip())) for url, lat, lng in data]"
   ]
  },
  {
   "cell_type": "code",
   "execution_count": null,
   "metadata": {},
   "outputs": [],
   "source": [
    "def create_map(data):\n",
    "    first = data[0]\n",
    "    _, center_lat, center_lng = first\n",
    "    \n",
    "    m = folium.Map(location=[40, 13], zoom_start=4)\n",
    "    for url, lat, lng in data:\n",
    "        icon = folium.features.CustomIcon(icon_image=url, icon_size=(50, 50))\n",
    "        popup = folium.Popup(f'<img width=\"512\" src=\"{url}\">')\n",
    "        folium.Marker(location=(lat, lng), icon=icon, popup=popup).add_to(m)\n",
    "    return m"
   ]
  },
  {
   "cell_type": "code",
   "execution_count": null,
   "metadata": {
    "tags": []
   },
   "outputs": [],
   "source": [
    "MAP_FILE_NAME = 'map.html'"
   ]
  },
  {
   "cell_type": "code",
   "execution_count": null,
   "metadata": {
    "tags": []
   },
   "outputs": [],
   "source": [
    "import base64\n",
    "\n",
    "def create_save_button():\n",
    "    with open(MAP_FILE_NAME, 'r') as f:\n",
    "        data = f.read()\n",
    "        payload = base64.b64encode(data.encode('utf-8')).decode('utf-8')\n",
    "        button_description = 'Save'\n",
    "        html_button = f\"\"\"<html>\n",
    "        <head>\n",
    "        <meta name=\"viewport\" content=\"width=device-width, initial-scale=1\">\n",
    "        </head>\n",
    "        <body>\n",
    "        <a download=\"{MAP_FILE_NAME}\" href=\"data:text/html;base64,{payload}\" >\n",
    "        <button class=\"p-Widget jupyter-widgets jupyter-button widget-button mod-info\">{button_description}</button>\n",
    "        </a>\n",
    "        </body>\n",
    "        </html>\n",
    "        \"\"\"\n",
    "        return HTML(html_button)"
   ]
  },
  {
   "cell_type": "code",
   "execution_count": null,
   "metadata": {
    "tags": []
   },
   "outputs": [],
   "source": [
    "def show(button):\n",
    "    data = parse_data()\n",
    "    if not data:\n",
    "        return\n",
    "    m = create_map(data)\n",
    "    m.save(MAP_FILE_NAME)\n",
    "    button = create_save_button()\n",
    "    with out:\n",
    "        out.clear_output()\n",
    "        display(button)\n",
    "        display(m)\n",
    "\n",
    "# create the buttons\n",
    "show_button = Button(description='Show')\n",
    "show_button.on_click(show)\n",
    "\n",
    "show_button"
   ]
  },
  {
   "cell_type": "code",
   "execution_count": null,
   "metadata": {
    "tags": []
   },
   "outputs": [],
   "source": [
    "out = Output()\n",
    "out"
   ]
  },
  {
   "cell_type": "code",
   "execution_count": null,
   "metadata": {},
   "outputs": [],
   "source": []
  }
 ],
 "metadata": {
  "kernelspec": {
   "display_name": "Python 3 (ipykernel)",
   "language": "python",
   "name": "python3"
  },
  "language_info": {
   "codemirror_mode": {
    "name": "ipython",
    "version": 3
   },
   "file_extension": ".py",
   "mimetype": "text/x-python",
   "name": "python",
   "nbconvert_exporter": "python",
   "pygments_lexer": "ipython3",
   "version": "3.11.3"
  }
 },
 "nbformat": 4,
 "nbformat_minor": 4
}
